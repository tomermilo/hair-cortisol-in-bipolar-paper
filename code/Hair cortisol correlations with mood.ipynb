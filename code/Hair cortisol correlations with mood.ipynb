{
 "cells": [
  {
   "cell_type": "code",
   "execution_count": null,
   "metadata": {
    "scrolled": true
   },
   "outputs": [],
   "source": [
    "import matplotlib.pyplot as plt\n",
    "import numpy as np\n",
    "import scipy.stats as st\n",
    "import pandas as pd\n",
    "import matplotlib\n",
    "import seaborn as sns\n",
    "from itertools import combinations\n",
    "import pingouin as pg"
   ]
  },
  {
   "cell_type": "code",
   "execution_count": 2,
   "metadata": {},
   "outputs": [],
   "source": [
    "def new_fig(size, ncols=1, nrows=1, show_spines=True):\n",
    "    '''\n",
    "    size - [widthXheight] in cm\n",
    "    '''\n",
    "    \n",
    "    cm = 1/2.54\n",
    "    f, ax = plt.subplots(ncols=ncols, nrows=nrows, figsize=(np.array(size)*cm))\n",
    "    if not show_spines:\n",
    "        ax.spines['right'].set_visible(False)\n",
    "        ax.spines['top'].set_visible(False)\n",
    "    matplotlib.rc('font', **{'family':'sans-serif','sans-serif':['Arial']})\n",
    "    \n",
    "    return f, ax\n",
    "\n",
    "\n",
    "def save_fig(filepath):\n",
    "    \n",
    "    matplotlib.rcParams['pdf.fonttype'] = 42\n",
    "    matplotlib.rcParams['ps.fonttype'] = 42\n",
    "    plt.savefig(filepath + '.pdf', transparent=True, dpi=300, bbox_inches='tight')\n",
    "    plt.savefig(filepath + '.jpg', transparent=True, dpi=300, bbox_inches='tight')"
   ]
  },
  {
   "cell_type": "markdown",
   "metadata": {},
   "source": [
    "# Cortisol vs. mood score correlations"
   ]
  },
  {
   "cell_type": "code",
   "execution_count": 3,
   "metadata": {
    "scrolled": true
   },
   "outputs": [],
   "source": [
    "bp_replicates_first = pd.read_excel(\n",
    "    '../data/bipolar.xlsx',\n",
    "    sheet_name='data for repeats analysis',\n",
    "    header=0,\n",
    "    nrows=6,\n",
    "    usecols='A:M'\n",
    ")\n",
    "\n",
    "bp_replicates_second = pd.read_excel(\n",
    "    '../data/bipolar.xlsx',\n",
    "    sheet_name='data for repeats analysis',\n",
    "    header=7,\n",
    "    nrows=6,\n",
    "    usecols='A:M'\n",
    ")\n",
    "\n",
    "bp_nonreplicates = pd.read_excel(\n",
    "    '../data/bipolar.xlsx',\n",
    "    sheet_name='data for repeats analysis',\n",
    "    header=15,\n",
    "    nrows=6\n",
    ")\n",
    "############################\n",
    "# Removing outliers\n",
    "############################\n",
    "outliers = ['BP5'] # BP5 - have no mood scores\n",
    "bp_nonreplicates.drop(columns=outliers, inplace=True)\n",
    "\n",
    "# uploading the questionnaires scores\n",
    "# Data of the second measurments\n",
    "bipolar_mood_scores_second = pd.read_excel('../data/bipolar_mood_scores.xlsx', sheet_name='repeats')\n",
    "bipolar_mood_scores_second['type'] = 's'\n",
    "# Data of the first measurments\n",
    "bipolar_mood_scores_first = pd.read_excel('../data/bipolar_mood_scores.xlsx', sheet_name='Sheet1')\n",
    "bipolar_mood_scores_first['type'] = 'nr'\n",
    "bipolar_mood_scores_first.set_index('id', inplace=True)\n",
    "bipolar_mood_scores_first.loc[bipolar_mood_scores_second['id'], 'type'] = 'f'\n",
    "bipolar_mood_scores_first.reset_index(inplace=True)\n",
    "\n",
    "\n",
    "bp_replicates_first.reset_index(inplace=True)\n",
    "bp_replicates_first.rename(columns={'index': 'segment'}, inplace=True)\n",
    "bp_replicates_first = bp_replicates_first.pivot_table(columns='segment')\n",
    "bp_replicates_first.reset_index(inplace=True)\n",
    "bp_replicates_first.rename(columns={'index': 'id'}, inplace=True)\n",
    "\n",
    "bp_nonreplicates.reset_index(inplace=True)\n",
    "bp_nonreplicates.rename(columns={'index': 'segment'}, inplace=True)\n",
    "bp_nonreplicates = bp_nonreplicates.pivot_table(columns='segment')\n",
    "bp_nonreplicates.reset_index(inplace=True)\n",
    "bp_nonreplicates.rename(columns={'index': 'id'}, inplace=True)\n",
    "\n",
    "bp_first_and_nr = pd.concat((bp_nonreplicates, bp_replicates_first), ignore_index=True)\n",
    "bp_first_and_nr_merged = pd.merge(bipolar_mood_scores_first, bp_first_and_nr)\n",
    "\n",
    "bp_replicates_second.reset_index(inplace=True)\n",
    "bp_replicates_second.rename(columns={'index': 'segment'}, inplace=True)\n",
    "bp_replicates_second = bp_replicates_second.pivot_table(columns='segment')\n",
    "bp_replicates_second.reset_index(inplace=True)\n",
    "bp_replicates_second.rename(columns={'index': 'id'}, inplace=True)\n",
    "\n",
    "bp_second_merged = pd.merge(bipolar_mood_scores_second, bp_replicates_second)\n",
    "\n",
    "bp_merged = pd.concat((bp_first_and_nr_merged, bp_second_merged), ignore_index=True)\n",
    "\n",
    "bp_merged.rename(columns={'HAMA': 'HAM-A'}, inplace=True)\n",
    "\n",
    "# merge participant information\n",
    "information = pd.read_excel('../data/Bipolar participant information.xlsx')\n",
    "bp_merged = bp_merged.merge(information, on='id')"
   ]
  },
  {
   "cell_type": "markdown",
   "metadata": {},
   "source": [
    "# Participant information statistics"
   ]
  },
  {
   "cell_type": "code",
   "execution_count": 4,
   "metadata": {
    "scrolled": true
   },
   "outputs": [],
   "source": [
    "bp_merged['log_cort'] = np.log10(bp_merged[0])\n",
    "bp_merged['log_cort_std'] = (bp_merged.log_cort - bp_merged.log_cort.mean()) / (bp_merged.log_cort.std())\n",
    "bp_merged = pd.concat(\n",
    "    (\n",
    "        bp_merged,\n",
    "        pd.get_dummies(bp_merged.gender),\n",
    "        pd.get_dummies(bp_merged['family status']),\n",
    "        pd.get_dummies(bp_merged['years of education']),\n",
    "        pd.get_dummies(bp_merged['under medications']),\n",
    "    ),\n",
    "    axis=1\n",
    ")"
   ]
  },
  {
   "cell_type": "code",
   "execution_count": 5,
   "metadata": {},
   "outputs": [
    {
     "name": "stdout",
     "output_type": "stream",
     "text": [
      "N=26\n",
      "\n",
      "age\n",
      "median=32.0; IQR=13.375\n",
      "\n",
      "gender\n",
      "F = 21; 80.76923076923077\n",
      "M = 5; 19.23076923076923\n",
      "\n",
      "family status\n",
      "single = 18; 69.23076923076923\n",
      "divorced = 5; 19.23076923076923\n",
      "maried = 3; 11.538461538461538\n",
      "\n",
      "children\n",
      "0.0 = 14; 53.84615384615385\n",
      "1.0 = 5; 19.23076923076923\n",
      "2.0 = 4; 15.384615384615385\n",
      "nan = 0; 0.0\n",
      "\n",
      "years of education\n",
      "more than 12 = 21; 80.76923076923077\n",
      "9 to 12 = 5; 19.23076923076923\n",
      "\n",
      "under medications\n",
      "irregular = 2; 7.6923076923076925\n",
      "unmedicated = 10; 38.46153846153846\n",
      "medicated = 14; 53.84615384615385\n",
      "\n",
      "Race\n",
      "White = 23; 88.46153846153847\n",
      "Asian = 1; 3.8461538461538463\n",
      "Unknown or not reported = 1; 3.8461538461538463\n",
      "African = 1; 3.8461538461538463\n",
      "\n",
      "mood stabilizer\n",
      "15 0.9375\n",
      "anti-psychotic\n",
      "10 0.625\n",
      "antidepressants\n",
      "10 0.625\n"
     ]
    }
   ],
   "source": [
    "fft_participants = ['BP10', 'BP11', 'BP12', 'BP14', 'BP15', 'BP20', 'BP21', 'BP24', 'BP28', 'BP3', \\\n",
    "'BP4', 'BP8', 'BP9', 'BP1', 'BP13', 'BP16', 'BP17', 'BP18', 'BP19', 'BP22', 'BP23', \\\n",
    "'BP25', 'BP26', 'BP29', 'BP31', 'BP33'] + ['BP5', 'BP30']\n",
    "data = bp_merged.loc[bp_merged['id'].isin(fft_participants)]\n",
    "data = data[~data.duplicated('id')].copy() # without repeats\n",
    "\n",
    "N = len(data)\n",
    "print(f'N={N}')\n",
    "print()\n",
    "\n",
    "print('age')\n",
    "print(f'median={np.median(data.age)}; IQR={np.quantile(data.age, q=0.75)-np.quantile(data.age, q=0.25)}')\n",
    "print()\n",
    "\n",
    "field = 'gender'\n",
    "for field in ['gender', 'family status', 'children', 'years of education', 'under medications', 'Race']:\n",
    "    print(field)\n",
    "    for cat in data[field].unique():\n",
    "        n = np.sum(data[field] == cat)\n",
    "        print(f'{cat} = {n}; {100*n/N}')\n",
    "    print()\n",
    "      \n",
    "medicated = data[data['under medications'] != 'unmedicated'].copy()\n",
    "medicated['antidepressants'] = (\n",
    "    (~pd.isna(medicated['SNRI'])) |\n",
    "    (~pd.isna(medicated['SSRI'])) |\n",
    "    (~pd.isna(medicated['atypical antideprrasant']))\n",
    ")\n",
    "print('mood stabilizer')\n",
    "print(medicated['mood stabilizer'].count(), medicated['mood stabilizer'].count()/len(medicated))\n",
    "print('anti-psychotic')\n",
    "print(medicated['anti-psychotic'].count(), medicated['anti-psychotic'].count()/len(medicated))\n",
    "print('antidepressants')\n",
    "print(np.sum(medicated['antidepressants']), np.sum(medicated['antidepressants'])/len(medicated))"
   ]
  },
  {
   "cell_type": "markdown",
   "metadata": {},
   "source": [
    "# partial correlations"
   ]
  },
  {
   "cell_type": "code",
   "execution_count": 7,
   "metadata": {},
   "outputs": [
    {
     "name": "stdout",
     "output_type": "stream",
     "text": [
      "BDI vs. log(cortisol):\n",
      "          n      r        CI95%  p-val\n",
      "pearson  37  0.467  [0.16, 1.0]  0.008\n",
      "31/37 are females\n",
      "\n",
      "HDRS vs. log(cortisol):\n",
      "          n      r        CI95%  p-val\n",
      "pearson  38  0.548  [0.27, 1.0]  0.002\n",
      "32/38 are females\n",
      "\n",
      "HAM-A vs. log(cortisol):\n",
      "          n     r        CI95%  p-val\n",
      "pearson  38  0.47  [0.17, 1.0]  0.007\n",
      "32/38 are females\n",
      "\n",
      "YMRS vs. log(cortisol):\n",
      "          n      r         CI95%  p-val\n",
      "pearson  36  0.232  [-0.11, 1.0]  0.132\n",
      "30/36 are females\n",
      "\n"
     ]
    }
   ],
   "source": [
    "# wo BP30 which had very high mean raw cortisol level (> 3 stds from the mean raw cortisol)\n",
    "bp_wo_bp30 = bp_merged.set_index('id').drop(index='BP30').reset_index()\n",
    "for question in ['BDI', 'HDRS', 'HAM-A', 'YMRS']:\n",
    "    print(f'{question} vs. log(cortisol):')\n",
    "    print(pg.partial_corr(\n",
    "        data=bp_wo_bp30,\n",
    "        x='log_cort',\n",
    "        y=question,\n",
    "        covar=['age', 'F', 'M', 'divorced', 'maried', 'single', '9 to 12', 'more than 12', 'irregular', 'medicated', 'unmedicated'],\n",
    "        alternative='greater',\n",
    "    ).round(3))\n",
    "    N_females = np.sum(np.isfinite(bp_wo_bp30[question]) & (bp_wo_bp30.gender == 'F'))\n",
    "    print(f'{N_females}/{np.sum(np.isfinite(bp_wo_bp30[question]))} are females')\n",
    "    print()"
   ]
  },
  {
   "cell_type": "code",
   "execution_count": 8,
   "metadata": {
    "scrolled": true
   },
   "outputs": [
    {
     "data": {
      "image/png": "[encoded data removed]",
      "text/plain": [
       "<Figure size 170.079x170.079 with 1 Axes>"
      ]
     },
     "metadata": {
      "needs_background": "light"
     },
     "output_type": "display_data"
    },
    {
     "data": {
      "image/png": "[encoded data removed]",
      "text/plain": [
       "<Figure size 170.079x170.079 with 1 Axes>"
      ]
     },
     "metadata": {
      "needs_background": "light"
     },
     "output_type": "display_data"
    },
    {
     "data": {
      "image/png": "[encoded data removed]",
      "text/plain": [
       "<Figure size 170.079x170.079 with 1 Axes>"
      ]
     },
     "metadata": {
      "needs_background": "light"
     },
     "output_type": "display_data"
    },
    {
     "data": {
      "image/png": "[encoded data removed]",
      "text/plain": [
       "<Figure size 170.079x170.079 with 1 Axes>"
      ]
     },
     "metadata": {
      "needs_background": "light"
     },
     "output_type": "display_data"
    }
   ],
   "source": [
    "for question in ['BDI', 'HDRS','HAM-A', 'YMRS']:\n",
    "    f, ax = new_fig((6, 6), show_spines=False)\n",
    "    sns.scatterplot(x='log_cort', y=question, hue='gender', data=bp_wo_bp30)\n",
    "    plt.show()"
   ]
  },
  {
   "cell_type": "code",
   "execution_count": 9,
   "metadata": {},
   "outputs": [
    {
     "name": "stdout",
     "output_type": "stream",
     "text": [
      "BDI vs. log(cortisol):\n",
      "          n      r         CI95%  p-val\n",
      "pearson  25  0.343  [-0.14, 1.0]  0.115\n",
      "21/25 are females\n",
      "\n",
      "HDRS vs. log(cortisol):\n",
      "          n      r        CI95%  p-val\n",
      "pearson  25  0.492  [0.04, 1.0]  0.037\n",
      "21/25 are females\n",
      "\n",
      "HAM-A vs. log(cortisol):\n",
      "          n      r         CI95%  p-val\n",
      "pearson  25  0.299  [-0.19, 1.0]   0.15\n",
      "21/25 are females\n",
      "\n",
      "YMRS vs. log(cortisol):\n",
      "          n      r         CI95%  p-val\n",
      "pearson  23  0.259  [-0.28, 1.0]  0.208\n",
      "19/23 are females\n",
      "\n"
     ]
    }
   ],
   "source": [
    "# without the 13 repeated measurments\n",
    "wo_bp30_wo_repeats = bp_wo_bp30[bp_wo_bp30['type'] != 's']\n",
    "for question in ['BDI', 'HDRS', 'HAM-A', 'YMRS']:\n",
    "    print(f'{question} vs. log(cortisol):')\n",
    "    print(pg.partial_corr(\n",
    "        data=wo_bp30_wo_repeats,\n",
    "        x='log_cort',\n",
    "        y=question,\n",
    "        covar=['age', 'F', 'M', 'divorced', 'maried', 'single', '9 to 12', 'more than 12', 'irregular', 'medicated', 'unmedicated'],\n",
    "        alternative='greater',\n",
    "    ).round(3))\n",
    "    N_females = np.sum(np.isfinite(wo_bp30_wo_repeats[question]) & (wo_bp30_wo_repeats.gender == 'F'))\n",
    "    print(f'{N_females}/{np.sum(np.isfinite(wo_bp30_wo_repeats[question]))} are females')\n",
    "    print()"
   ]
  },
  {
   "cell_type": "markdown",
   "metadata": {},
   "source": [
    "## Score correlations"
   ]
  },
  {
   "cell_type": "code",
   "execution_count": 10,
   "metadata": {},
   "outputs": [
    {
     "name": "stdout",
     "output_type": "stream",
     "text": [
      "N=37\n",
      "BDI vs. HDRS pearson: r=0.88, p=5.832261029210593e-13\n",
      "\n"
     ]
    },
    {
     "data": {
      "image/png": "[encoded data removed]",
      "text/plain": [
       "<Figure size 170.079x170.079 with 1 Axes>"
      ]
     },
     "metadata": {
      "needs_background": "light"
     },
     "output_type": "display_data"
    },
    {
     "name": "stdout",
     "output_type": "stream",
     "text": [
      "N=37\n",
      "BDI vs. HAM-A pearson: r=0.72, p=4.738349712163454e-07\n",
      "\n"
     ]
    },
    {
     "data": {
      "image/png": "[encoded data removed]",
      "text/plain": [
       "<Figure size 170.079x170.079 with 1 Axes>"
      ]
     },
     "metadata": {
      "needs_background": "light"
     },
     "output_type": "display_data"
    },
    {
     "name": "stdout",
     "output_type": "stream",
     "text": [
      "N=38\n",
      "HDRS vs. HAM-A pearson: r=0.66, p=6.955624086469542e-06\n",
      "\n"
     ]
    },
    {
     "data": {
      "image/png": "[encoded data removed]",
      "text/plain": [
       "<Figure size 170.079x170.079 with 1 Axes>"
      ]
     },
     "metadata": {
      "needs_background": "light"
     },
     "output_type": "display_data"
    }
   ],
   "source": [
    "questions = ['BDI', 'HDRS','HAM-A']\n",
    "for comb in combinations(questions, 2):\n",
    "    idx = (np.isfinite(bp_wo_bp30[comb[0]])) & (np.isfinite(bp_wo_bp30[comb[1]]))\n",
    "    \n",
    "    f, ax = new_fig((6, 6), show_spines=False)\n",
    "    plt.scatter(x=bp_wo_bp30[comb[0]][idx], y=bp_wo_bp30[comb[1]][idx], color='black', s=2.5)\n",
    "    plt.xlabel(comb[0], size=12)\n",
    "    plt.xticks(fontsize=10)\n",
    "    plt.ylabel(comb[1], size=12)\n",
    "    plt.yticks(fontsize=10)\n",
    "    \n",
    "    print(f'N={sum(idx)}')\n",
    "    r, p = st.pearsonr(bp_wo_bp30[comb[0]][idx], bp_wo_bp30[comb[1]][idx])\n",
    "    print(f'{comb[0]} vs. {comb[1]} pearson: r={r:0.2f}, p={p}')\n",
    "    print()\n",
    "\n",
    "    plt.show()"
   ]
  }
 ],
 "metadata": {
  "kernelspec": {
   "display_name": "Python 3",
   "language": "python",
   "name": "python3"
  },
  "language_info": {
   "codemirror_mode": {
    "name": "ipython",
    "version": 3
   },
   "file_extension": ".py",
   "mimetype": "text/x-python",
   "name": "python",
   "nbconvert_exporter": "python",
   "pygments_lexer": "ipython3",
   "version": "3.7.4"
  }
 },
 "nbformat": 4,
 "nbformat_minor": 4
}
